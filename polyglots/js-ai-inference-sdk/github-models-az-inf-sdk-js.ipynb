{
 "cells": [
  {
   "cell_type": "markdown",
   "metadata": {},
   "source": [
    "# Azure AI Inference SDK Examples with GitHub Models (Not working)\n",
    "\n",
    "This notebook demonstrates how to use the Azure AI Inference SDK to deploy a model from a GitHub repository. The Azure AI Inference SDK is a Python package that provides a high-level interface for deploying models to Azure Machine Learning and Azure IoT Edge. The SDK is designed to be easy to use and to provide a consistent experience across different deployment targets."
   ]
  },
  {
   "cell_type": "code",
   "execution_count": null,
   "metadata": {
    "dotnet_interactive": {
     "language": "pwsh"
    },
    "polyglot_notebook": {
     "kernelName": "pwsh"
    }
   },
   "outputs": [],
   "source": [
    "# Setup\n",
    "npm install @azure-rest/ai-inference @azure/core-auth @azure/core-sse requirejs"
   ]
  },
  {
   "cell_type": "code",
   "execution_count": null,
   "metadata": {
    "dotnet_interactive": {
     "language": "javascript"
    },
    "polyglot_notebook": {
     "kernelName": "javascript"
    }
   },
   "outputs": [],
   "source": [
    "requirejs.config({\n",
    "    nodeRequire: require,\n",
    "    paths: {\n",
    "        \"azure-core-auth\": \"@azure/core-auth\",\n",
    "        \"ai-inference\": \"@azure-rest/ai-inference\"\n",
    "    }\n",
    "});\n",
    "\n",
    "console.log(\"Running require for Azure AI Inference model in Javascript\");\n",
    "requirejs(['require', 'azure-core-auth','ai-inference'], function(require, azureCoreAuth, ModelClient){\n",
    "\n",
    "    console.log(\"Running Azure AI Inference model in Javascript\");\n",
    "\n",
    "    /*\n",
    "    Run this model in Javascript\n",
    "\n",
    "    > npm install @azure-rest/ai-inference @azure/core-auth @azure/core-sse\n",
    "    */\n",
    "    const { AzureKeyCredential } = azureCoreAuth;\n",
    "    //const ModelClient = require(\"@azure-rest/ai-inference\");\n",
    "\n",
    "    const userMessage = \"\";\n",
    "\n",
    "\n",
    "    // To authenticate with the model you will need to generate a personal access token (PAT) in your GitHub settings. \n",
    "    // Create your PAT token by following instructions here: https://docs.github.com/en/authentication/keeping-your-account-and-data-secure/managing-your-personal-access-tokens\n",
    "    const token = process.env[\"GITHUB_TOKEN\"];\n",
    "\n",
    "    async function main() {\n",
    "        \n",
    "        const client = new ModelClient(\n",
    "            \"https://models.inference.ai.azure.com\",\n",
    "            new AzureKeyCredential(token)\n",
    "        );\n",
    "\n",
    "        const response = await client.path(\"/chat/completions\").post({\n",
    "            body: {\n",
    "                messages: [\n",
    "                    { role: \"system\", content: \"You are a assistant for describing what PowerShell scripts do. Do not suggest PowerShell modules. Include a short description of the script functionality and potential use cases.\" },\n",
    "                    { role: \"user\", content: \"Can you explain the basics of machine learning?\" }\n",
    "                ],\n",
    "                model: \"gpt-4o-mini\", //model: \"Phi-3-mini-128k-instruct\", model: \"Mistral-small\", model: \"gpt-4o-mini\"\n",
    "                temperature: 0.25,\n",
    "                max_tokens: 4096,\n",
    "                top_p: 1\n",
    "            }\n",
    "        });\n",
    "\n",
    "        if (response.status !== \"200\") {\n",
    "            throw response.body.error;\n",
    "        }\n",
    "        console.log(response.body.choices[0].message.content);\n",
    "    }\n",
    "\n",
    "    main().catch((err) => {\n",
    "        console.error(\"The sample encountered an error:\", err);\n",
    "    });\n",
    "    \n",
    "}, function (err) {\n",
    "    console.log(err);\n",
    "});\n",
    "console.log(\"End of the script\");"
   ]
  }
 ],
 "metadata": {
  "kernelspec": {
   "display_name": ".NET (C#)",
   "language": "C#",
   "name": ".net-csharp"
  },
  "polyglot_notebook": {
   "kernelInfo": {
    "defaultKernelName": "csharp",
    "items": [
     {
      "aliases": [],
      "name": "csharp"
     },
     {
      "aliases": [],
      "languageName": "javascript",
      "name": "javascript"
     }
    ]
   }
  }
 },
 "nbformat": 4,
 "nbformat_minor": 2
}
