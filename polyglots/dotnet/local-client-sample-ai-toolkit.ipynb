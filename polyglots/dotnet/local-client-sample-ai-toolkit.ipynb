{
 "cells": [
  {
   "cell_type": "markdown",
   "metadata": {},
   "source": [
    "# Introduction - Run Model using AI Toolkit\n",
    "\n",
    "This polyglot will connect to the AI Toolkit and run a .net sample to run the code locally."
   ]
  },
  {
   "cell_type": "markdown",
   "metadata": {},
   "source": [
    "> Note: Need to ensure the web server for Web AP Toolkit is working\n",
    "```powershell\n",
    "$body = Get-Content -Raw -Path sample1.json\n",
    "Invoke-WebRequest -Uri http://127.0.0.1:5272/v1/chat/completions -Method Post -ContentType \"application/json\" -Body $body\n",
    "```"
   ]
  }
 ],
 "metadata": {
  "kernelspec": {
   "display_name": ".NET (C#)",
   "language": "C#",
   "name": ".net-csharp"
  },
  "polyglot_notebook": {
   "kernelInfo": {
    "defaultKernelName": "csharp",
    "items": [
     {
      "aliases": [],
      "languageName": "csharp",
      "name": "csharp"
     }
    ]
   }
  }
 },
 "nbformat": 4,
 "nbformat_minor": 2
}
