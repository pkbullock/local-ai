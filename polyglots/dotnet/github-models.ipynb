{
 "cells": [
  {
   "cell_type": "markdown",
   "metadata": {
    "dotnet_interactive": {
     "language": "csharp"
    },
    "polyglot_notebook": {
     "kernelName": "csharp"
    }
   },
   "source": [
    "# Introduction to the retrieving data from GithUb Models API\n",
    "\n",
    "> Note: Need to securely store the GITHUB Token: ```setx GITHUB_TOKEN_GHMODELS \"your_github_token_here\"```\n",
    "\n",
    "Example Retrieval: ```string githubToken = Environment.GetEnvironmentVariable(\"GITHUB_TOKEN_GHMODELS\");```\n",
    "\n",
    "## Example of querying a GitHub Model - Chat GPT 4o Model"
   ]
  },
  {
   "cell_type": "code",
   "execution_count": 4,
   "metadata": {
    "dotnet_interactive": {
     "language": "csharp"
    },
    "polyglot_notebook": {
     "kernelName": "csharp"
    }
   },
   "outputs": [
    {
     "data": {
      "text/html": [
       "<div><div></div><div></div><div><strong>Installed Packages</strong><ul><li><span>Azure.AI.Inference, 1.0.0-beta.1</span></li></ul></div></div>"
      ]
     },
     "metadata": {},
     "output_type": "display_data"
    }
   ],
   "source": [
    "//dotnet add package Azure.AI.Inference --prerelease\n",
    "#r \"nuget: Azure.AI.Inference, 1.0.0-beta.1\""
   ]
  },
  {
   "cell_type": "code",
   "execution_count": 7,
   "metadata": {
    "dotnet_interactive": {
     "language": "csharp"
    },
    "polyglot_notebook": {
     "kernelName": "csharp"
    }
   },
   "outputs": [
    {
     "name": "stdout",
     "output_type": "stream",
     "text": [
      "Sure! Machine learning is a field of artificial intelligence (AI) that focuses on developing algorithms and models that enable computers to learn from and make predictions or decisions based on data. Here's a basic overview of key concepts:\n",
      "\n",
      "### 1. **Types of Machine Learning:**\n",
      "   - **Supervised Learning:** Involves training a model on a labeled dataset, meaning the input data is paired with the correct output. The model learns to predict the output from the input data.\n",
      "     - *Examples:* Linear regression, decision trees, support vector machines.\n",
      "   \n",
      "   - **Unsupervised Learning:** The model learns from data that doesn't have labeled responses. It identifies patterns or structures, such as grouping similar data points.\n",
      "     - *Examples:* Clustering (e.g., k-means), dimensionality reduction (e.g., PCA).\n",
      "\n",
      "   - **Semi-supervised Learning:** Combines a small amount of labeled data with a large amount of unlabeled data during training.\n",
      "   \n",
      "   - **Reinforcement Learning:** The model learns to make decisions by performing actions and receiving feedback in the form of rewards or punishments.\n",
      "     - *Examples:* Game playing, robotics.\n",
      "\n",
      "### 2. **Key Concepts:**\n",
      "   - **Features:** The input variables or attributes used by the model to make predictions.\n",
      "   - **Labels/Targets:** The output variable that the model is trying to predict (in supervised learning).\n",
      "   - **Training Data:** The dataset used to train the model.\n",
      "   - **Test/Validation Data:** Separate data used to evaluate the performance of the model.\n",
      "\n",
      "### 3. **Model Training:**\n",
      "   - The process of using data to adjust the parameters of the model to minimize error or maximize accuracy.\n",
      "   - **Loss Function:** A metric used to evaluate how well a model's predictions match the actual data.\n",
      "   - **Optimization Algorithm:** Techniques like gradient descent are used to minimize the loss function.\n",
      "\n",
      "### 4. **Overfitting and Underfitting:**\n",
      "   - **Overfitting:** When a model learns the training data too well, including noise, and performs poorly on new data.\n",
      "   - **Underfitting:** When a model is too simple to capture the underlying trend of the data.\n",
      "\n",
      "### 5. **Evaluation Metrics:**\n",
      "   - **Accuracy, Precision, Recall, F1-Score:** Metrics used to assess the model's performance, especially in classification.\n",
      "   - **Mean Squared Error (MSE), R²:** Common metrics for regression tasks.\n",
      "\n",
      "### 6. **Common Algorithms:**\n",
      "   - **Linear Regression:** For predicting a continuous value.\n",
      "   - **Decision Trees:** Non-linear model useful for both classification and regression.\n",
      "   - **Neural Networks:** Inspired by the human brain, useful for complex tasks like image and speech recognition.\n",
      "   - **K-Nearest Neighbors:** A simple, instance-based learning algorithm.\n",
      "\n",
      "Machine learning involves experimentation and iteration to improve models, requiring domain expertise and understanding the data and problem space.\r\n"
     ]
    },
    {
     "data": {
      "text/html": [
       "<div class=\"dni-plaintext\"><pre>&lt;null&gt;</pre></div><style>\r\n",
       ".dni-code-hint {\r\n",
       "    font-style: italic;\r\n",
       "    overflow: hidden;\r\n",
       "    white-space: nowrap;\r\n",
       "}\r\n",
       ".dni-treeview {\r\n",
       "    white-space: nowrap;\r\n",
       "}\r\n",
       ".dni-treeview td {\r\n",
       "    vertical-align: top;\r\n",
       "    text-align: start;\r\n",
       "}\r\n",
       "details.dni-treeview {\r\n",
       "    padding-left: 1em;\r\n",
       "}\r\n",
       "table td {\r\n",
       "    text-align: start;\r\n",
       "}\r\n",
       "table tr { \r\n",
       "    vertical-align: top; \r\n",
       "    margin: 0em 0px;\r\n",
       "}\r\n",
       "table tr td pre \r\n",
       "{ \r\n",
       "    vertical-align: top !important; \r\n",
       "    margin: 0em 0px !important;\r\n",
       "} \r\n",
       "table th {\r\n",
       "    text-align: start;\r\n",
       "}\r\n",
       "</style>"
      ]
     },
     "metadata": {},
     "output_type": "display_data"
    }
   ],
   "source": [
    "/*\n",
    "Run this model in C#.\n",
    "*/\n",
    "using Azure;\n",
    "using Azure.AI.Inference;\n",
    "\n",
    "// To authenticate with the model you will need to generate a personal access token (PAT) in your GitHub settings. \n",
    "// Create your PAT token by following instructions here: https://docs.github.com/en/authentication/keeping-your-account-and-data-secure/managing-your-personal-access-tokens\n",
    "var credential = new AzureKeyCredential(System.Environment.GetEnvironmentVariable(\"GITHUB_TOKEN_GHMODELS\"));\n",
    "if(credential == null)\n",
    "{\n",
    "    System.Console.WriteLine(\"Please set the GITHUB_TOKEN_GHMODELS environment variable.\");\n",
    "    return;\n",
    "}\n",
    "\n",
    "var client = new ChatCompletionsClient(\n",
    "    new Uri(\"https://models.inference.ai.azure.com\"),\n",
    "    credential,\n",
    "    new ChatCompletionsClientOptions());\n",
    "\n",
    "var requestOptions = new ChatCompletionsOptions()\n",
    "{\n",
    "    Messages =\n",
    "    {\n",
    "        new ChatRequestSystemMessage(\"\"),\n",
    "        new ChatRequestUserMessage(\"Can you explain the basics of machine learning?\"),\n",
    "    },\n",
    "    Model = \"gpt-4o\",\n",
    "    Temperature = 1,\n",
    "    MaxTokens = 4096,\n",
    "\n",
    "};\n",
    "\n",
    "Response<ChatCompletions> response = client.Complete(requestOptions);\n",
    "System.Console.WriteLine(response.Value.Choices[0].Message.Content);\n",
    "\n",
    "// Write the full response to a text file\n",
    "System.IO.File.AppendAllText(\"response.txt\", response.Value.Choices[0].Message.Content);\n",
    "System.IO.File.AppendAllText(\"response.txt\", \"----------------------------------------------END----------------------------------------------\");\n"
   ]
  }
 ],
 "metadata": {
  "kernelspec": {
   "display_name": ".NET (C#)",
   "language": "C#",
   "name": ".net-csharp"
  },
  "polyglot_notebook": {
   "kernelInfo": {
    "defaultKernelName": "csharp",
    "items": [
     {
      "aliases": [],
      "languageName": "csharp",
      "name": "csharp"
     }
    ]
   }
  }
 },
 "nbformat": 4,
 "nbformat_minor": 2
}
