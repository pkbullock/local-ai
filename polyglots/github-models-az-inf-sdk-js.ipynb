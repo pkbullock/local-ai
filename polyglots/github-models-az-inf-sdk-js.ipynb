{
 "cells": [
  {
   "cell_type": "markdown",
   "metadata": {},
   "source": [
    "# Azure AI Inference SDK Examples with GitHub Models\n",
    "\n",
    "This notebook demonstrates how to use the Azure AI Inference SDK to deploy a model from a GitHub repository. The Azure AI Inference SDK is a Python package that provides a high-level interface for deploying models to Azure Machine Learning and Azure IoT Edge. The SDK is designed to be easy to use and to provide a consistent experience across different deployment targets."
   ]
  },
  {
   "cell_type": "code",
   "execution_count": 1,
   "metadata": {
    "dotnet_interactive": {
     "language": "pwsh"
    },
    "polyglot_notebook": {
     "kernelName": "pwsh"
    }
   },
   "outputs": [
    {
     "name": "stdout",
     "output_type": "stream",
     "text": [
      "\n",
      "added 21 packages, and audited 22 packages in 6s\n",
      "\n",
      "found 0 vulnerabilities\n"
     ]
    }
   ],
   "source": [
    "# Setup\n",
    "npm install @azure-rest/ai-inference @azure/core-auth @azure/core-sse"
   ]
  },
  {
   "cell_type": "code",
   "execution_count": 4,
   "metadata": {
    "dotnet_interactive": {
     "language": "javascript"
    },
    "polyglot_notebook": {
     "kernelName": "javascript"
    }
   },
   "outputs": [
    {
     "ename": "Error",
     "evalue": "Cannot use import statement outside a module",
     "output_type": "error",
     "traceback": [
      "Cannot use import statement outside a module"
     ]
    }
   ],
   "source": [
    "/*\n",
    "Run this model in Javascript\n",
    "\n",
    "> npm install @azure-rest/ai-inference @azure/core-auth @azure/core-sse\n",
    "*/\n",
    "import ModelClient from \"@azure-rest/ai-inference\";\n",
    "import { AzureKeyCredential } from \"@azure/core-auth\";\n",
    "\n",
    "// To authenticate with the model you will need to generate a personal access token (PAT) in your GitHub settings. \n",
    "// Create your PAT token by following instructions here: https://docs.github.com/en/authentication/keeping-your-account-and-data-secure/managing-your-personal-access-tokens\n",
    "const token = process.env[\"GITHUB_TOKEN\"];\n",
    "\n",
    "export async function main() {\n",
    "    const client = new ModelClient(\n",
    "        \"https://models.inference.ai.azure.com\",\n",
    "        new AzureKeyCredential(token)\n",
    "    );\n",
    "\n",
    "    const response = await client.path(\"/chat/completions\").post({\n",
    "        body: {\n",
    "            messages: [\n",
    "                { role: \"system\", content: \"You are a assistant for describing what PowerShell scripts do. Do not suggest PowerShell modules. Include a short description of the script functionality and potential use cases.\" },\n",
    "                { role: \"user\", content: \"Can you explain the basics of machine learning?\" }\n",
    "            ],\n",
    "            model: \"gpt-4o-mini\", //model: \"Phi-3-mini-128k-instruct\", model: \"Mistral-small\", model: \"gpt-4o-mini\"\n",
    "            temperature: 0.25,\n",
    "            max_tokens: 4096,\n",
    "            top_p: 1\n",
    "        }\n",
    "    });\n",
    "\n",
    "    if (response.status !== \"200\") {\n",
    "        throw response.body.error;\n",
    "    }\n",
    "    console.log(response.body.choices[0].message.content);\n",
    "}\n",
    "\n",
    "main().catch((err) => {\n",
    "    console.error(\"The sample encountered an error:\", err);\n",
    "});\n"
   ]
  }
 ],
 "metadata": {
  "kernelspec": {
   "display_name": ".NET (C#)",
   "language": "C#",
   "name": ".net-csharp"
  },
  "polyglot_notebook": {
   "kernelInfo": {
    "defaultKernelName": "javascript",
    "items": [
     {
      "aliases": [],
      "languageName": "javascript",
      "name": "javascript"
     }
    ]
   }
  }
 },
 "nbformat": 4,
 "nbformat_minor": 2
}
