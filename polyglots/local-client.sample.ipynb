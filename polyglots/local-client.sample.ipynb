{
 "cells": [
  {
   "cell_type": "markdown",
   "metadata": {},
   "source": [
    "# Introduction\n",
    "\n",
    "This polyglot will connect to the AI Toolkit and run a .net sample to run the code locally."
   ]
  },
  {
   "cell_type": "code",
   "execution_count": 3,
   "metadata": {
    "dotnet_interactive": {
     "language": "csharp"
    },
    "polyglot_notebook": {
     "kernelName": "csharp"
    }
   },
   "outputs": [
    {
     "data": {
      "text/html": [
       "<div><div></div><div></div><div><strong>Installed Packages</strong><ul><li><span>Azure.AI.OpenAI, 2.0.0-beta.2</span></li></ul></div></div>"
      ]
     },
     "metadata": {},
     "output_type": "display_data"
    }
   ],
   "source": [
    "#r \"nuget: Azure.AI.OpenAI, 2.0.0-beta.2\""
   ]
  },
  {
   "cell_type": "code",
   "execution_count": 5,
   "metadata": {},
   "outputs": [],
   "source": [
    "// OverridePolicy.cs\n",
    "using Azure.Core.Pipeline;\n",
    "using Azure.Core;\n",
    "\n",
    "internal partial class OverrideRequestUriPolicy(Uri overrideUri)\n",
    "    : HttpPipelineSynchronousPolicy\n",
    "{\n",
    "    private readonly Uri _overrideUri = overrideUri;\n",
    "\n",
    "    public override void OnSendingRequest(HttpMessage message)\n",
    "    {\n",
    "        message.Request.Uri.Reset(_overrideUri);\n",
    "    }\n",
    "}"
   ]
  },
  {
   "cell_type": "code",
   "execution_count": 6,
   "metadata": {
    "dotnet_interactive": {
     "language": "csharp"
    },
    "polyglot_notebook": {
     "kernelName": "csharp"
    }
   },
   "outputs": [
    {
     "ename": "Error",
     "evalue": "(14,1): error CS0246: The type or namespace name 'OpenAIClientOptions' could not be found (are you missing a using directive or an assembly reference?)\r\n(18,1): error CS0246: The type or namespace name 'OpenAIClient' could not be found (are you missing a using directive or an assembly reference?)\r\n(20,1): error CS0246: The type or namespace name 'ChatCompletionsOptions' could not be found (are you missing a using directive or an assembly reference?)\r\n(30,1): error CS0246: The type or namespace name 'StreamingResponse<>' could not be found (are you missing a using directive or an assembly reference?)\r\n(30,19): error CS0246: The type or namespace name 'StreamingChatCompletionsUpdate' could not be found (are you missing a using directive or an assembly reference?)\r\n(25,13): error CS0246: The type or namespace name 'ChatRequestSystemMessage' could not be found (are you missing a using directive or an assembly reference?)\r\n(26,13): error CS0246: The type or namespace name 'ChatRequestUserMessage' could not be found (are you missing a using directive or an assembly reference?)\r\n(33,16): error CS0246: The type or namespace name 'StreamingChatCompletionsUpdate' could not be found (are you missing a using directive or an assembly reference?)",
     "output_type": "error",
     "traceback": [
      "(14,1): error CS0246: The type or namespace name 'OpenAIClientOptions' could not be found (are you missing a using directive or an assembly reference?)\r\n",
      "(18,1): error CS0246: The type or namespace name 'OpenAIClient' could not be found (are you missing a using directive or an assembly reference?)\r\n",
      "(20,1): error CS0246: The type or namespace name 'ChatCompletionsOptions' could not be found (are you missing a using directive or an assembly reference?)\r\n",
      "(30,1): error CS0246: The type or namespace name 'StreamingResponse<>' could not be found (are you missing a using directive or an assembly reference?)\r\n",
      "(30,19): error CS0246: The type or namespace name 'StreamingChatCompletionsUpdate' could not be found (are you missing a using directive or an assembly reference?)\r\n",
      "(25,13): error CS0246: The type or namespace name 'ChatRequestSystemMessage' could not be found (are you missing a using directive or an assembly reference?)\r\n",
      "(26,13): error CS0246: The type or namespace name 'ChatRequestUserMessage' could not be found (are you missing a using directive or an assembly reference?)\r\n",
      "(33,16): error CS0246: The type or namespace name 'StreamingChatCompletionsUpdate' could not be found (are you missing a using directive or an assembly reference?)"
     ]
    }
   ],
   "source": [
    "using Azure.AI.OpenAI;\n",
    "\n",
    "// Parameters for the clientOptions\n",
    "string deploymentModel = \"Phi-3-mini-4k-directml-int4-awq-block-128-onnx\";\n",
    "string systemMessage = \"You are a helpful assistant. Be brief and succinct.\";\n",
    "string prompt = \"What is the golden ratio?\";\n",
    "\n",
    "\n",
    "\n",
    "// Running the model based on the parameters\n",
    "\n",
    "Uri localhostUri = new(\"http://localhost:5272/v1/chat/completions\");\n",
    "\n",
    "OpenAIClientOptions clientOptions = new();\n",
    "clientOptions.AddPolicy(\n",
    "    new OverrideRequestUriPolicy(localhostUri),\n",
    "    Azure.Core.HttpPipelinePosition.BeforeTransport);\n",
    "OpenAIClient client = new(openAIApiKey: \"unused\", clientOptions);\n",
    "\n",
    "ChatCompletionsOptions options = new()\n",
    "{\n",
    "    DeploymentName = deploymentModel,\n",
    "    Messages =\n",
    "    {\n",
    "        new ChatRequestSystemMessage(systemMessage),\n",
    "        new ChatRequestUserMessage(prompt),\n",
    "    }\n",
    "};\n",
    "\n",
    "StreamingResponse<StreamingChatCompletionsUpdate> streamingChatResponse\n",
    "    = await client.GetChatCompletionsStreamingAsync(options);\n",
    "\n",
    "await foreach (StreamingChatCompletionsUpdate chatChunk in streamingChatResponse)\n",
    "{\n",
    "    Console.Write(chatChunk.ContentUpdate);\n",
    "}"
   ]
  },
  {
   "cell_type": "markdown",
   "metadata": {},
   "source": [
    "> Note: Need to ensure the web server for Web AP Toolkit is working\n",
    "```powershell\n",
    "$body = Get-Content -Raw -Path sample1.json\n",
    "Invoke-WebRequest -Uri http://127.0.0.1:5272/v1/chat/completions -Method Post -ContentType \"application/json\" -Body $body\n",
    "```"
   ]
  }
 ],
 "metadata": {
  "kernelspec": {
   "display_name": ".NET (C#)",
   "language": "C#",
   "name": ".net-csharp"
  },
  "polyglot_notebook": {
   "kernelInfo": {
    "defaultKernelName": "csharp",
    "items": [
     {
      "aliases": [],
      "languageName": "csharp",
      "name": "csharp"
     }
    ]
   }
  }
 },
 "nbformat": 4,
 "nbformat_minor": 2
}
