{
 "cells": [
  {
   "cell_type": "markdown",
   "metadata": {},
   "source": [
    "# Introduction - Really Simple Getting Started Sample\n",
    "\n",
    "This polyglot will run load a Phi-3 model and run inference on it. The Phi-3 model is a mini model that is designed to be used on a CPU or mobile device.\n",
    "\n",
    "> Note: This sample rather than uses AI Toolkit (AITK) to interact with the Phi3 model. Interacts with the Phi3 model directly - allowing for flexibility and reduced dependencies on future learning.\n",
    "\n",
    " *  This is based on the Phi3 model from Microsoft. The Phi3 model is a mini model that is designed to be used on a CPU or mobile device.\n",
    " *  Original Sample: https://github.com/microsoft/Phi-3CookBook from Labs."
   ]
  },
  {
   "cell_type": "code",
   "execution_count": null,
   "metadata": {
    "dotnet_interactive": {
     "language": "csharp"
    },
    "polyglot_notebook": {
     "kernelName": "csharp"
    }
   },
   "outputs": [],
   "source": [
    "#r \"nuget: Microsoft.ML.OnnxRuntime, 1.18.1\"\n",
    "#r \"nuget: Microsoft.ML.OnnxRuntimeGenAI, 0.3.0\"\n",
    "using Microsoft.ML.OnnxRuntimeGenAI;\n",
    "using System.IO;"
   ]
  },
  {
   "cell_type": "code",
   "execution_count": null,
   "metadata": {
    "dotnet_interactive": {
     "language": "csharp"
    },
    "polyglot_notebook": {
     "kernelName": "csharp"
    }
   },
   "outputs": [],
   "source": [
    "// Forces the method to be execute synchronously\n",
    "public void ProcessPrompt(string userPrompt, string systemPrompt){\n",
    "\n",
    "    // Download models with the AI Toolkit and reference this location\n",
    "    var modelPath = @\"C:\\Git\\readonly\\Phi-3-medium-128k-instruct-onnx-cpu\\cpu-int4-rtn-block-32-acc-level-4\";\n",
    "    Console.WriteLine(\"Model Loaded: {0}\", Path.Exists(modelPath) ? \"Yes\" : \"No\");\n",
    "    var model = new Model(modelPath);\n",
    "    var tokenizer = new Tokenizer(model);\n",
    "\n",
    "    Console.WriteLine(\"User: \" + userPrompt);\n",
    "\n",
    "    // show phi3 response\n",
    "    Console.Write(\"Phi3: \");\n",
    "    var fullPrompt = $\"<|system|>{systemPrompt}<|end|><|user|>{userPrompt}<|end|><|assistant|>\";\n",
    "    var tokens = tokenizer.Encode(fullPrompt);\n",
    "\n",
    "    var generatorParams = new GeneratorParams(model);\n",
    "    generatorParams.SetSearchOption(\"max_length\", 2048);\n",
    "    generatorParams.SetSearchOption(\"past_present_share_buffer\", false);\n",
    "    generatorParams.SetInputSequences(tokens);\n",
    "\n",
    "    var generator = new Generator(model, generatorParams);\n",
    "    while (!generator.IsDone())\n",
    "    {\n",
    "        generator.ComputeLogits();\n",
    "        generator.GenerateNextToken();\n",
    "        ReadOnlySpan<int> outputTokens = generator.GetSequence(0);\n",
    "        ReadOnlySpan<int> newToken = outputTokens.Slice(outputTokens.Length - 1, 1);\n",
    "        var output = tokenizer.Decode(newToken);\n",
    "        Console.Write(output);\n",
    "    }\n",
    "}\n",
    "\n",
    "var userPrompt = \"Write a PowerShell script for getting items on the file system.\";\n",
    "var systemPrompt = \"You are an AI assistant that helps people find information. Answer questions using a direct style. Do not share more information that the requested by the users.\";\n",
    "\n",
    "ProcessPrompt(userPrompt, systemPrompt);\n",
    "\n",
    "Console.WriteLine(\"\\nDone :-)\");"
   ]
  }
 ],
 "metadata": {
  "kernelspec": {
   "display_name": ".NET (C#)",
   "language": "C#",
   "name": ".net-csharp"
  },
  "polyglot_notebook": {
   "kernelInfo": {
    "defaultKernelName": "csharp",
    "items": [
     {
      "aliases": [],
      "languageName": "csharp",
      "name": "csharp"
     }
    ]
   }
  }
 },
 "nbformat": 4,
 "nbformat_minor": 2
}
