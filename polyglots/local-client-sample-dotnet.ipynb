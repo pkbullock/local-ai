{
 "cells": [
  {
   "cell_type": "markdown",
   "metadata": {},
   "source": [
    "# Introduction - Really Simple Getting Started Sample\n",
    "\n",
    "This polyglot will run load a Phi-3 model and run inference on it. The Phi-3 model is a mini model that is designed to be used on a CPU or mobile device.\n",
    "\n",
    "> Note: This sample rather than uses AI Toolkit (AITK) to interact with the Phi3 model. Interacts with the Phi3 model directly - allowing for flexibility and reduced dependencies on future learning.\n",
    "\n",
    " *  This is based on the Phi3 model from Microsoft. The Phi3 model is a mini model that is designed to be used on a CPU or mobile device.\n",
    " *  Original Sample: https://github.com/microsoft/Phi-3CookBook from Labs."
   ]
  },
  {
   "cell_type": "code",
   "execution_count": 19,
   "metadata": {
    "dotnet_interactive": {
     "language": "csharp"
    },
    "polyglot_notebook": {
     "kernelName": "csharp"
    }
   },
   "outputs": [
    {
     "data": {
      "text/html": [
       "<div><div></div><div></div><div><strong>Installed Packages</strong><ul><li><span>Microsoft.ML.OnnxRuntime, 1.18.1</span></li><li><span>Microsoft.ML.OnnxRuntimeGenAI, 0.3.0</span></li></ul></div></div>"
      ]
     },
     "metadata": {},
     "output_type": "display_data"
    }
   ],
   "source": [
    "#r \"nuget: Microsoft.ML.OnnxRuntime, 1.18.1\"\n",
    "#r \"nuget: Microsoft.ML.OnnxRuntimeGenAI, 0.3.0\"\n",
    "using Microsoft.ML.OnnxRuntimeGenAI;\n",
    "using System.IO;"
   ]
  },
  {
   "cell_type": "code",
   "execution_count": 20,
   "metadata": {
    "dotnet_interactive": {
     "language": "csharp"
    },
    "polyglot_notebook": {
     "kernelName": "csharp"
    }
   },
   "outputs": [
    {
     "name": "stdout",
     "output_type": "stream",
     "text": [
      "User: Write a PowerShell script for getting items on the file system.\n",
      "Phi3:  Here's a simple PowerShell script that lists all items in the current directory, including files and subdirectories:\n",
      "\n",
      "```powershell\n",
      "Get-ChildItem -Path .\n",
      "```\n",
      "\n",
      "If you want to list only files, you can use the `-File` parameter:\n",
      "\n",
      "```powershell\n",
      "Get-ChildItem -Path . -File\n",
      "```\n",
      "\n",
      "To list only directories, use the `-Directory` parameter:\n",
      "\n",
      "```powershell\n",
      "Get-ChildItem -Path . -Directory\n",
      "```\n",
      "\n",
      "If you want to list items in a specific directory, replace the `.` with the desired path:\n",
      "\n",
      "```powershell\n",
      "Get-ChildItem -Path \"C:\\path\\to\\your\\directory\"\n",
      "```\n",
      "\n",
      "Remember to run these scripts in a PowerShell environment.Done :-)\n"
     ]
    }
   ],
   "source": [
    "// Forces the method to be execute synchronously\n",
    "public void ProcessPrompt(string userPrompt, string systemPrompt){\n",
    "\n",
    "    // Download models with the AI Toolkit and reference this location\n",
    "    var modelPath = Path.Join(Environment.GetFolderPath(Environment.SpecialFolder.UserProfile), \n",
    "        @\"\\.aitk\\models\\microsoft\\Phi-3-mini-4k-instruct-onnx\\cpu_and_mobile\\cpu-int4-rtn-block-32-acc-level-4\");\n",
    "    \n",
    "    var model = new Model(modelPath);\n",
    "    var tokenizer = new Tokenizer(model);\n",
    "\n",
    "    Console.WriteLine(\"User: \" + userPrompt);\n",
    "\n",
    "    // show phi3 response\n",
    "    Console.Write(\"Phi3: \");\n",
    "    var fullPrompt = $\"<|system|>{systemPrompt}<|end|><|user|>{userPrompt}<|end|><|assistant|>\";\n",
    "    var tokens = tokenizer.Encode(fullPrompt);\n",
    "\n",
    "    var generatorParams = new GeneratorParams(model);\n",
    "    generatorParams.SetSearchOption(\"max_length\", 2048);\n",
    "    generatorParams.SetSearchOption(\"past_present_share_buffer\", false);\n",
    "    generatorParams.SetInputSequences(tokens);\n",
    "\n",
    "    var generator = new Generator(model, generatorParams);\n",
    "    while (!generator.IsDone())\n",
    "    {\n",
    "        generator.ComputeLogits();\n",
    "        generator.GenerateNextToken();\n",
    "        ReadOnlySpan<int> outputTokens = generator.GetSequence(0);\n",
    "        ReadOnlySpan<int> newToken = outputTokens.Slice(outputTokens.Length - 1, 1);\n",
    "        var output = tokenizer.Decode(newToken);\n",
    "        Console.Write(output);\n",
    "    }\n",
    "}\n",
    "\n",
    "var userPrompt = \"Write a PowerShell script for getting items on the file system.\";\n",
    "var systemPrompt = \"You are an AI assistant that helps people find information. Answer questions using a direct style. Do not share more information that the requested by the users.\";\n",
    "\n",
    "ProcessPrompt(userPrompt, systemPrompt);\n",
    "\n",
    "Console.WriteLine(\"\\nDone :-)\");"
   ]
  }
 ],
 "metadata": {
  "kernelspec": {
   "display_name": ".NET (C#)",
   "language": "C#",
   "name": ".net-csharp"
  },
  "polyglot_notebook": {
   "kernelInfo": {
    "defaultKernelName": "csharp",
    "items": [
     {
      "aliases": [],
      "languageName": "csharp",
      "name": "csharp"
     }
    ]
   }
  }
 },
 "nbformat": 4,
 "nbformat_minor": 2
}
